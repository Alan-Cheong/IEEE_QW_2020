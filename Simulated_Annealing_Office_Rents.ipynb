{
  "nbformat": 4,
  "nbformat_minor": 0,
  "metadata": {
    "colab": {
      "provenance": [],
      "authorship_tag": "ABX9TyNGnwJtqtdmColhnxP8GDVL",
      "include_colab_link": true
    },
    "kernelspec": {
      "name": "python3",
      "display_name": "Python 3"
    },
    "language_info": {
      "name": "python"
    }
  },
  "cells": [
    {
      "cell_type": "markdown",
      "metadata": {
        "id": "view-in-github",
        "colab_type": "text"
      },
      "source": [
        "<a href=\"https://colab.research.google.com/github/Alan-Cheong/IEEE_QW_2020/blob/master/Simulated_Annealing_Office_Rents.ipynb\" target=\"_parent\"><img src=\"https://colab.research.google.com/assets/colab-badge.svg\" alt=\"Open In Colab\"/></a>"
      ]
    },
    {
      "cell_type": "code",
      "execution_count": null,
      "metadata": {
        "id": "qkJorEBuEqNq"
      },
      "outputs": [],
      "source": [
        "import pandas as pd\n",
        "import numpy as np\n",
        "\n",
        "# Load the dataset\n",
        "file_path = \"your_file_path_here.csv\"  # Update this with the actual path\n",
        "df = pd.read_csv(file_path)\n",
        "\n",
        "# Ensure the date column is in datetime format\n",
        "df['Quarter'] = pd.to_datetime(df['Quarter'])\n",
        "\n",
        "# Sort by date (just in case)\n",
        "df = df.sort_values(by='Quarter')\n",
        "\n",
        "# Extract rents and vacancy rates\n",
        "rents = df['Rent'].values\n",
        "vacancies = df['Vacancy'].values\n",
        "\n",
        "from scipy.interpolate import interp1d\n",
        "\n",
        "# Create an interpolation function based on historical data\n",
        "vacancy_function = interp1d(rents, vacancies, kind='linear', fill_value='extrapolate')\n",
        "\n",
        "# Define cost function (uses real data)\n",
        "def vacancy_rate(rent_price):\n",
        "    return vacancy_function(rent_price)  # Use actual vacancy data\n",
        "\n",
        "def simulated_annealing(initial_rent, temp, cooling_rate, max_iterations):\n",
        "    current_rent = initial_rent\n",
        "    best_rent = current_rent\n",
        "    best_cost = vacancy_rate(current_rent)\n",
        "\n",
        "    for i in range(max_iterations):\n",
        "        new_rent = current_rent + np.random.uniform(-5, 5)  # Small perturbation\n",
        "        new_cost = vacancy_rate(new_rent)\n",
        "\n",
        "        # Accept new rent price if it's better, or with probability if worse\n",
        "        if new_cost < best_cost or np.exp((best_cost - new_cost) / temp) > np.random.rand():\n",
        "            current_rent = new_rent\n",
        "            best_cost = new_cost\n",
        "            best_rent = new_rent\n",
        "\n",
        "        # Cooling\n",
        "        temp *= cooling_rate\n",
        "\n",
        "        # Stop if temp is too low\n",
        "        if temp < 1e-3:\n",
        "            break\n",
        "\n",
        "    return best_rent, best_cost\n",
        "\n",
        "# Run optimization with real data\n",
        "optimal_rent, optimal_vacancy = simulated_annealing(initial_rent=np.mean(rents), temp=1000, cooling_rate=0.95, max_iterations=1000)\n",
        "\n",
        "print(f\"Optimal Rent: ${optimal_rent:.2f} per sq. ft\")\n",
        "print(f\"Vacancy Rate at Optimal Rent: {optimal_vacancy:.4f}\")\n",
        "\n"
      ]
    }
  ]
}