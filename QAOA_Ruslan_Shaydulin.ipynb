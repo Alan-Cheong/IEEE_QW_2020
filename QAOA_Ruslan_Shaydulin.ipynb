{
  "nbformat": 4,
  "nbformat_minor": 0,
  "metadata": {
    "colab": {
      "provenance": [],
      "authorship_tag": "ABX9TyOUrfmzmlNQGHos8g7M8FQE",
      "include_colab_link": true
    },
    "kernelspec": {
      "name": "python3",
      "display_name": "Python 3"
    },
    "language_info": {
      "name": "python"
    }
  },
  "cells": [
    {
      "cell_type": "markdown",
      "metadata": {
        "id": "view-in-github",
        "colab_type": "text"
      },
      "source": [
        "<a href=\"https://colab.research.google.com/github/Alan-Cheong/IEEE_QW_2020/blob/master/QAOA_Ruslan_Shaydulin.ipynb\" target=\"_parent\"><img src=\"https://colab.research.google.com/assets/colab-badge.svg\" alt=\"Open In Colab\"/></a>"
      ]
    },
    {
      "cell_type": "code",
      "execution_count": 1,
      "metadata": {
        "colab": {
          "base_uri": "https://localhost:8080/"
        },
        "id": "hQrpA0TsG2VL",
        "outputId": "1e5ff8c6-98ce-458e-d283-9ddc2704390a"
      },
      "outputs": [
        {
          "output_type": "stream",
          "name": "stdout",
          "text": [
            "Collecting qiskit-aer\n",
            "  Downloading qiskit_aer-0.15.1-cp310-cp310-manylinux_2_17_x86_64.manylinux2014_x86_64.whl.metadata (8.0 kB)\n",
            "Collecting qiskit>=1.1.0 (from qiskit-aer)\n",
            "  Downloading qiskit-1.3.1-cp39-abi3-manylinux_2_17_x86_64.manylinux2014_x86_64.whl.metadata (12 kB)\n",
            "Requirement already satisfied: numpy>=1.16.3 in /usr/local/lib/python3.10/dist-packages (from qiskit-aer) (1.26.4)\n",
            "Requirement already satisfied: scipy>=1.0 in /usr/local/lib/python3.10/dist-packages (from qiskit-aer) (1.13.1)\n",
            "Requirement already satisfied: psutil>=5 in /usr/local/lib/python3.10/dist-packages (from qiskit-aer) (5.9.5)\n",
            "Collecting rustworkx>=0.15.0 (from qiskit>=1.1.0->qiskit-aer)\n",
            "  Downloading rustworkx-0.15.1-cp38-abi3-manylinux_2_17_x86_64.manylinux2014_x86_64.whl.metadata (9.9 kB)\n",
            "Requirement already satisfied: sympy>=1.3 in /usr/local/lib/python3.10/dist-packages (from qiskit>=1.1.0->qiskit-aer) (1.13.1)\n",
            "Collecting dill>=0.3 (from qiskit>=1.1.0->qiskit-aer)\n",
            "  Downloading dill-0.3.9-py3-none-any.whl.metadata (10 kB)\n",
            "Requirement already satisfied: python-dateutil>=2.8.0 in /usr/local/lib/python3.10/dist-packages (from qiskit>=1.1.0->qiskit-aer) (2.8.2)\n",
            "Collecting stevedore>=3.0.0 (from qiskit>=1.1.0->qiskit-aer)\n",
            "  Downloading stevedore-5.4.0-py3-none-any.whl.metadata (2.3 kB)\n",
            "Requirement already satisfied: typing-extensions in /usr/local/lib/python3.10/dist-packages (from qiskit>=1.1.0->qiskit-aer) (4.12.2)\n",
            "Collecting symengine<0.14,>=0.11 (from qiskit>=1.1.0->qiskit-aer)\n",
            "  Downloading symengine-0.13.0-cp310-cp310-manylinux_2_17_x86_64.manylinux2014_x86_64.whl.metadata (1.2 kB)\n",
            "Requirement already satisfied: six>=1.5 in /usr/local/lib/python3.10/dist-packages (from python-dateutil>=2.8.0->qiskit>=1.1.0->qiskit-aer) (1.17.0)\n",
            "Collecting pbr>=2.0.0 (from stevedore>=3.0.0->qiskit>=1.1.0->qiskit-aer)\n",
            "  Downloading pbr-6.1.0-py2.py3-none-any.whl.metadata (3.4 kB)\n",
            "Requirement already satisfied: mpmath<1.4,>=1.1.0 in /usr/local/lib/python3.10/dist-packages (from sympy>=1.3->qiskit>=1.1.0->qiskit-aer) (1.3.0)\n",
            "Downloading qiskit_aer-0.15.1-cp310-cp310-manylinux_2_17_x86_64.manylinux2014_x86_64.whl (12.3 MB)\n",
            "\u001b[2K   \u001b[90m━━━━━━━━━━━━━━━━━━━━━━━━━━━━━━━━━━━━━━━━\u001b[0m \u001b[32m12.3/12.3 MB\u001b[0m \u001b[31m65.7 MB/s\u001b[0m eta \u001b[36m0:00:00\u001b[0m\n",
            "\u001b[?25hDownloading qiskit-1.3.1-cp39-abi3-manylinux_2_17_x86_64.manylinux2014_x86_64.whl (6.7 MB)\n",
            "\u001b[2K   \u001b[90m━━━━━━━━━━━━━━━━━━━━━━━━━━━━━━━━━━━━━━━━\u001b[0m \u001b[32m6.7/6.7 MB\u001b[0m \u001b[31m61.5 MB/s\u001b[0m eta \u001b[36m0:00:00\u001b[0m\n",
            "\u001b[?25hDownloading dill-0.3.9-py3-none-any.whl (119 kB)\n",
            "\u001b[2K   \u001b[90m━━━━━━━━━━━━━━━━━━━━━━━━━━━━━━━━━━━━━━━━\u001b[0m \u001b[32m119.4/119.4 kB\u001b[0m \u001b[31m11.5 MB/s\u001b[0m eta \u001b[36m0:00:00\u001b[0m\n",
            "\u001b[?25hDownloading rustworkx-0.15.1-cp38-abi3-manylinux_2_17_x86_64.manylinux2014_x86_64.whl (2.0 MB)\n",
            "\u001b[2K   \u001b[90m━━━━━━━━━━━━━━━━━━━━━━━━━━━━━━━━━━━━━━━━\u001b[0m \u001b[32m2.0/2.0 MB\u001b[0m \u001b[31m55.1 MB/s\u001b[0m eta \u001b[36m0:00:00\u001b[0m\n",
            "\u001b[?25hDownloading stevedore-5.4.0-py3-none-any.whl (49 kB)\n",
            "\u001b[2K   \u001b[90m━━━━━━━━━━━━━━━━━━━━━━━━━━━━━━━━━━━━━━━━\u001b[0m \u001b[32m49.5/49.5 kB\u001b[0m \u001b[31m4.2 MB/s\u001b[0m eta \u001b[36m0:00:00\u001b[0m\n",
            "\u001b[?25hDownloading symengine-0.13.0-cp310-cp310-manylinux_2_17_x86_64.manylinux2014_x86_64.whl (49.7 MB)\n",
            "\u001b[2K   \u001b[90m━━━━━━━━━━━━━━━━━━━━━━━━━━━━━━━━━━━━━━━━\u001b[0m \u001b[32m49.7/49.7 MB\u001b[0m \u001b[31m11.9 MB/s\u001b[0m eta \u001b[36m0:00:00\u001b[0m\n",
            "\u001b[?25hDownloading pbr-6.1.0-py2.py3-none-any.whl (108 kB)\n",
            "\u001b[2K   \u001b[90m━━━━━━━━━━━━━━━━━━━━━━━━━━━━━━━━━━━━━━━━\u001b[0m \u001b[32m108.5/108.5 kB\u001b[0m \u001b[31m11.4 MB/s\u001b[0m eta \u001b[36m0:00:00\u001b[0m\n",
            "\u001b[?25hInstalling collected packages: symengine, rustworkx, pbr, dill, stevedore, qiskit, qiskit-aer\n",
            "Successfully installed dill-0.3.9 pbr-6.1.0 qiskit-1.3.1 qiskit-aer-0.15.1 rustworkx-0.15.1 stevedore-5.4.0 symengine-0.13.0\n"
          ]
        }
      ],
      "source": [
        "pip install qiskit-aer"
      ]
    },
    {
      "cell_type": "code",
      "source": [
        "# import warnings; warnings.filterwarnings(\"ignore\")\n",
        "import numpy as np\n",
        "import networkx as nx\n",
        "import matplotlib.pyplot as plt\n",
        "from collections import defaultdict\n",
        "from operator import itemgetter\n",
        "from scipy.optimize import minimize\n",
        "from qiskit.providers.basic_provider import BasicProvider\n",
        "#backend = BasicProvider().get_backend(\"backend_name\")\n",
        "from qiskit import QuantumCircuit, QuantumRegister, ClassicalRegister, transpile\n",
        "#from qiskit.aqua.algorithms import NumPyEigensolver\n",
        "from qiskit.quantum_info import Pauli\n",
        "#from qiskit.aqua.operators import op_converter\n",
        "#from qiskit.aqua.operators import WeightedPauliOperator\n",
        "\n",
        "G = nx.Graph()\n",
        "G.add_edges_from([[0,3],[0,4],[1,3],[1,4],[2,3],[2,4]])\n",
        "pos = nx.bipartite_layout(G, [0, 1, 2])\n",
        "nx.draw(G, pos)\n",
        "\n",
        "#[0, 1, 2]: This is the list of nodes that belong to one of the two sets of the bipartite graph.\n",
        "#The other set of nodes is inferred by the graph.\n",
        "#In your graph, nodes 0, 1, 2 form one set, and nodes 3, 4 form the other set, as they are connected by edges to 0, 1, 2.\n",
        "\n",
        "#pos: This is the output of the function, which is a dictionary of positions.\n",
        "#It tells the drawing function where to place each node in a 2D space for plotting.\n",
        "\n",
        "labels = {node: str(node) for node in G.nodes()}\n",
        "nx.draw_networkx_labels(G, pos, labels, font_size=12, font_color=\"black\")\n",
        "\n",
        "# Show the plot\n",
        "plt.show()"
      ],
      "metadata": {
        "colab": {
          "base_uri": "https://localhost:8080/",
          "height": 516
        },
        "id": "z1NIP7IJG4X2",
        "outputId": "3f316667-8daa-46a6-8e13-9b15666e84a4"
      },
      "execution_count": 2,
      "outputs": [
        {
          "output_type": "display_data",
          "data": {
            "text/plain": [
              "<Figure size 640x480 with 1 Axes>"
            ],
            "image/png": "[encoded data removed]"
          },
          "metadata": {}
        }
      ]
    },
    {
      "cell_type": "code",
      "source": [
        "def append_zz_term(qc, q1, q2, gamma):\n",
        "    qc.cx(q1,q2)\n",
        "    qc.rz(2*gamma, q2)\n",
        "    qc.cx(q1,q2)\n",
        "\n",
        "def get_cost_operator_circuit(G, gamma):\n",
        "    N = G.number_of_nodes()\n",
        "\n",
        "    qc = QuantumCircuit(N,N)\n",
        "    for i, j in G.edges():\n",
        "        append_zz_term(qc, i, j, gamma)\n",
        "    return qc\n",
        "\n",
        "qc = get_cost_operator_circuit(G, np.pi / 3)\n",
        "qc.draw()"
      ],
      "metadata": {
        "colab": {
          "base_uri": "https://localhost:8080/",
          "height": 417
        },
        "id": "8LdGXgOnHCJR",
        "outputId": "5ee9c505-ac4f-40d8-b427-0db16a34d456"
      },
      "execution_count": 3,
      "outputs": [
        {
          "output_type": "execute_result",
          "data": {
            "text/plain": [
              "                                                                            »\n",
              "q_0: ──■────────────────■────■────────────────────────────■─────────────────»\n",
              "       │                │    │     ┌───┐    ┌──────────┐  │  ┌───┐     ┌───┐»\n",
              "q_1: ──┼────────────────┼────┼─────┤ X ├────┤ Rz(2π/3) ├──┼──┤ X ├─────┤ X ├»\n",
              "       │                │    │     └─┬─┘    └──────────┘  │  └─┬─┘┌───┐└─┬─┘»\n",
              "q_2: ──┼────────────────┼────┼───────┼────────────────────┼────┼──┤ X ├──┼──»\n",
              "     ┌─┴─┐┌──────────┐┌─┴─┐  │       │                    │    │  └─┬─┘  │  »\n",
              "q_3: ┤ X ├┤ Rz(2π/3) ├┤ X ├──┼───────■────────────────────┼────■────■────┼──»\n",
              "     └───┘└──────────┘└───┘┌─┴─┐┌──────────┐            ┌─┴─┐            │  »\n",
              "q_4: ──────────────────────┤ X ├┤ Rz(2π/3) ├────────────┤ X ├────────────■──»\n",
              "                           └───┘└──────────┘            └───┘               »\n",
              "c: 5/═══════════════════════════════════════════════════════════════════════»\n",
              "                                                                            »\n",
              "«                                                 \n",
              "«q_0: ────────────────────────────────────────────\n",
              "«     ┌──────────┐     ┌───┐                      \n",
              "«q_1: ┤ Rz(2π/3) ├─────┤ X ├──────────────────────\n",
              "«     ├──────────┤┌───┐└─┬─┘┌───┐┌──────────┐┌───┐\n",
              "«q_2: ┤ Rz(2π/3) ├┤ X ├──┼──┤ X ├┤ Rz(2π/3) ├┤ X ├\n",
              "«     └──────────┘└─┬─┘  │  └─┬─┘└──────────┘└─┬─┘\n",
              "«q_3: ──────────────■────┼────┼────────────────┼──\n",
              "«                        │    │                │  \n",
              "«q_4: ───────────────────■────■────────────────■──\n",
              "«                                                 \n",
              "«c: 5/════════════════════════════════════════════\n",
              "«                                                 "
            ],
            "text/html": [
              "<pre style=\"word-wrap: normal;white-space: pre;background: #fff0;line-height: 1.1;font-family: &quot;Courier New&quot;,Courier,monospace\">                                                                            »\n",
              "q_0: ──■────────────────■────■────────────────────────────■─────────────────»\n",
              "       │                │    │     ┌───┐    ┌──────────┐  │  ┌───┐     ┌───┐»\n",
              "q_1: ──┼────────────────┼────┼─────┤ X ├────┤ Rz(2π/3) ├──┼──┤ X ├─────┤ X ├»\n",
              "       │                │    │     └─┬─┘    └──────────┘  │  └─┬─┘┌───┐└─┬─┘»\n",
              "q_2: ──┼────────────────┼────┼───────┼────────────────────┼────┼──┤ X ├──┼──»\n",
              "     ┌─┴─┐┌──────────┐┌─┴─┐  │       │                    │    │  └─┬─┘  │  »\n",
              "q_3: ┤ X ├┤ Rz(2π/3) ├┤ X ├──┼───────■────────────────────┼────■────■────┼──»\n",
              "     └───┘└──────────┘└───┘┌─┴─┐┌──────────┐            ┌─┴─┐            │  »\n",
              "q_4: ──────────────────────┤ X ├┤ Rz(2π/3) ├────────────┤ X ├────────────■──»\n",
              "                           └───┘└──────────┘            └───┘               »\n",
              "c: 5/═══════════════════════════════════════════════════════════════════════»\n",
              "                                                                            »\n",
              "«                                                 \n",
              "«q_0: ────────────────────────────────────────────\n",
              "«     ┌──────────┐     ┌───┐                      \n",
              "«q_1: ┤ Rz(2π/3) ├─────┤ X ├──────────────────────\n",
              "«     ├──────────┤┌───┐└─┬─┘┌───┐┌──────────┐┌───┐\n",
              "«q_2: ┤ Rz(2π/3) ├┤ X ├──┼──┤ X ├┤ Rz(2π/3) ├┤ X ├\n",
              "«     └──────────┘└─┬─┘  │  └─┬─┘└──────────┘└─┬─┘\n",
              "«q_3: ──────────────■────┼────┼────────────────┼──\n",
              "«                        │    │                │  \n",
              "«q_4: ───────────────────■────■────────────────■──\n",
              "«                                                 \n",
              "«c: 5/════════════════════════════════════════════\n",
              "«                                                 </pre>"
            ]
          },
          "metadata": {},
          "execution_count": 3
        }
      ]
    },
    {
      "cell_type": "code",
      "source": [
        "def append_x_term(qc, q1, beta):\n",
        "    qc.rx(2*beta, q1)\n",
        "\n",
        "def get_mixer_operator_circuit(G, beta):\n",
        "    N = G.number_of_nodes()\n",
        "    qc = QuantumCircuit(N,N)\n",
        "    for n in G.nodes():\n",
        "        append_x_term(qc, n, beta)\n",
        "    return qc\n",
        "\n",
        "qc = get_mixer_operator_circuit(G, np.pi/3)\n",
        "qc.draw()"
      ],
      "metadata": {
        "colab": {
          "base_uri": "https://localhost:8080/",
          "height": 217
        },
        "id": "1nn0J7YmHJv9",
        "outputId": "325fe64a-5eed-4891-ab08-572398de69d2"
      },
      "execution_count": 4,
      "outputs": [
        {
          "output_type": "execute_result",
          "data": {
            "text/plain": [
              "     ┌──────────┐\n",
              "q_0: ┤ Rx(2π/3) ├\n",
              "     ├──────────┤\n",
              "q_1: ┤ Rx(2π/3) ├\n",
              "     ├──────────┤\n",
              "q_2: ┤ Rx(2π/3) ├\n",
              "     ├──────────┤\n",
              "q_3: ┤ Rx(2π/3) ├\n",
              "     ├──────────┤\n",
              "q_4: ┤ Rx(2π/3) ├\n",
              "     └──────────┘\n",
              "c: 5/════════════\n",
              "                 "
            ],
            "text/html": [
              "<pre style=\"word-wrap: normal;white-space: pre;background: #fff0;line-height: 1.1;font-family: &quot;Courier New&quot;,Courier,monospace\">     ┌──────────┐\n",
              "q_0: ┤ Rx(2π/3) ├\n",
              "     ├──────────┤\n",
              "q_1: ┤ Rx(2π/3) ├\n",
              "     ├──────────┤\n",
              "q_2: ┤ Rx(2π/3) ├\n",
              "     ├──────────┤\n",
              "q_3: ┤ Rx(2π/3) ├\n",
              "     ├──────────┤\n",
              "q_4: ┤ Rx(2π/3) ├\n",
              "     └──────────┘\n",
              "c: 5/════════════\n",
              "                 </pre>"
            ]
          },
          "metadata": {},
          "execution_count": 4
        }
      ]
    },
    {
      "cell_type": "code",
      "source": [
        "def get_qaoa_circuit(G, beta, gamma):\n",
        "    #assert(len(beta) == len(gamma))\n",
        "    p = len(beta) # infering number of QAOA steps from the parameters passed\n",
        "\n",
        "    N = G.number_of_nodes()\n",
        "    qc = QuantumCircuit(N,N)\n",
        "    # first, apply a layer of Hadamards\n",
        "    qc.h(range(N))\n",
        "    # second, apply p alternating operators\n",
        "    for i in range(p):\n",
        "        qc = qc.compose(get_cost_operator_circuit(G,gamma[i])).compose(get_mixer_operator_circuit(G,beta[i]))\n",
        "        # finally, do not forget to measure the result!\n",
        "    qc.barrier(range(N))\n",
        "    qc.measure(range(N), range(N))\n",
        "    qc.draw()\n",
        "    return qc\n",
        "\n",
        "qc = get_qaoa_circuit(G,[np.pi/3], [np.pi/2])\n",
        "qc.draw()"
      ],
      "metadata": {
        "colab": {
          "base_uri": "https://localhost:8080/",
          "height": 617
        },
        "id": "I2G7pvDAHM3E",
        "outputId": "d79a9949-581c-4357-a880-124bf035ee48"
      },
      "execution_count": 5,
      "outputs": [
        {
          "output_type": "execute_result",
          "data": {
            "text/plain": [
              "     ┌───┐                                               ┌──────────┐          »\n",
              "q_0: ┤ H ├──■─────────────■────■──────────────────────■──┤ Rx(2π/3) ├──────────»\n",
              "     ├───┤  │             │    │    ┌───┐  ┌───────┐  │  └──┬───┬───┘     ┌───┐»\n",
              "q_1: ┤ H ├──┼─────────────┼────┼────┤ X ├──┤ Rz(π) ├──┼─────┤ X ├─────────┤ X ├»\n",
              "     ├───┤  │             │    │    └─┬─┘  └───────┘  │     └─┬─┘    ┌───┐└─┬─┘»\n",
              "q_2: ┤ H ├──┼─────────────┼────┼──────┼───────────────┼───────┼──────┤ X ├──┼──»\n",
              "     ├───┤┌─┴─┐┌───────┐┌─┴─┐  │      │               │       │      └─┬─┘  │  »\n",
              "q_3: ┤ H ├┤ X ├┤ Rz(π) ├┤ X ├──┼──────■───────────────┼───────■────────■────┼──»\n",
              "     ├───┤└───┘└───────┘└───┘┌─┴─┐┌───────┐         ┌─┴─┐                   │  »\n",
              "q_4: ┤ H ├───────────────────┤ X ├┤ Rz(π) ├─────────┤ X ├───────────────────■──»\n",
              "     └───┘                   └───┘└───────┘         └───┘                      »\n",
              "c: 5/══════════════════════════════════════════════════════════════════════════»\n",
              "                                                                               »\n",
              "«                                                                  ░ ┌─┐      »\n",
              "«q_0: ─────────────────────────────────────────────────────────────░─┤M├──────»\n",
              "«     ┌───────┐     ┌───┐┌──────────┐                              ░ └╥┘┌─┐   »\n",
              "«q_1: ┤ Rz(π) ├─────┤ X ├┤ Rx(2π/3) ├──────────────────────────────░──╫─┤M├───»\n",
              "«     ├───────┤┌───┐└─┬─┘└──┬───┬───┘ ┌───────┐  ┌───┐┌──────────┐ ░  ║ └╥┘┌─┐»\n",
              "«q_2: ┤ Rz(π) ├┤ X ├──┼─────┤ X ├─────┤ Rz(π) ├──┤ X ├┤ Rx(2π/3) ├─░──╫──╫─┤M├»\n",
              "«     └───────┘└─┬─┘  │     └─┬─┘    ┌┴───────┴─┐└─┬─┘└──────────┘ ░  ║  ║ └╥┘»\n",
              "«q_3: ───────────■────┼───────┼──────┤ Rx(2π/3) ├──┼───────────────░──╫──╫──╫─»\n",
              "«                     │       │      └──────────┘  │  ┌──────────┐ ░  ║  ║  ║ »\n",
              "«q_4: ────────────────■───────■────────────────────■──┤ Rx(2π/3) ├─░──╫──╫──╫─»\n",
              "«                                                     └──────────┘ ░  ║  ║  ║ »\n",
              "«c: 5/════════════════════════════════════════════════════════════════╩══╩══╩═»\n",
              "«                                                                     0  1  2 »\n",
              "«           \n",
              "«q_0: ──────\n",
              "«           \n",
              "«q_1: ──────\n",
              "«           \n",
              "«q_2: ──────\n",
              "«     ┌─┐   \n",
              "«q_3: ┤M├───\n",
              "«     └╥┘┌─┐\n",
              "«q_4: ─╫─┤M├\n",
              "«      ║ └╥┘\n",
              "«c: 5/═╩══╩═\n",
              "«      3  4 "
            ],
            "text/html": [
              "<pre style=\"word-wrap: normal;white-space: pre;background: #fff0;line-height: 1.1;font-family: &quot;Courier New&quot;,Courier,monospace\">     ┌───┐                                               ┌──────────┐          »\n",
              "q_0: ┤ H ├──■─────────────■────■──────────────────────■──┤ Rx(2π/3) ├──────────»\n",
              "     ├───┤  │             │    │    ┌───┐  ┌───────┐  │  └──┬───┬───┘     ┌───┐»\n",
              "q_1: ┤ H ├──┼─────────────┼────┼────┤ X ├──┤ Rz(π) ├──┼─────┤ X ├─────────┤ X ├»\n",
              "     ├───┤  │             │    │    └─┬─┘  └───────┘  │     └─┬─┘    ┌───┐└─┬─┘»\n",
              "q_2: ┤ H ├──┼─────────────┼────┼──────┼───────────────┼───────┼──────┤ X ├──┼──»\n",
              "     ├───┤┌─┴─┐┌───────┐┌─┴─┐  │      │               │       │      └─┬─┘  │  »\n",
              "q_3: ┤ H ├┤ X ├┤ Rz(π) ├┤ X ├──┼──────■───────────────┼───────■────────■────┼──»\n",
              "     ├───┤└───┘└───────┘└───┘┌─┴─┐┌───────┐         ┌─┴─┐                   │  »\n",
              "q_4: ┤ H ├───────────────────┤ X ├┤ Rz(π) ├─────────┤ X ├───────────────────■──»\n",
              "     └───┘                   └───┘└───────┘         └───┘                      »\n",
              "c: 5/══════════════════════════════════════════════════════════════════════════»\n",
              "                                                                               »\n",
              "«                                                                  ░ ┌─┐      »\n",
              "«q_0: ─────────────────────────────────────────────────────────────░─┤M├──────»\n",
              "«     ┌───────┐     ┌───┐┌──────────┐                              ░ └╥┘┌─┐   »\n",
              "«q_1: ┤ Rz(π) ├─────┤ X ├┤ Rx(2π/3) ├──────────────────────────────░──╫─┤M├───»\n",
              "«     ├───────┤┌───┐└─┬─┘└──┬───┬───┘ ┌───────┐  ┌───┐┌──────────┐ ░  ║ └╥┘┌─┐»\n",
              "«q_2: ┤ Rz(π) ├┤ X ├──┼─────┤ X ├─────┤ Rz(π) ├──┤ X ├┤ Rx(2π/3) ├─░──╫──╫─┤M├»\n",
              "«     └───────┘└─┬─┘  │     └─┬─┘    ┌┴───────┴─┐└─┬─┘└──────────┘ ░  ║  ║ └╥┘»\n",
              "«q_3: ───────────■────┼───────┼──────┤ Rx(2π/3) ├──┼───────────────░──╫──╫──╫─»\n",
              "«                     │       │      └──────────┘  │  ┌──────────┐ ░  ║  ║  ║ »\n",
              "«q_4: ────────────────■───────■────────────────────■──┤ Rx(2π/3) ├─░──╫──╫──╫─»\n",
              "«                                                     └──────────┘ ░  ║  ║  ║ »\n",
              "«c: 5/════════════════════════════════════════════════════════════════╩══╩══╩═»\n",
              "«                                                                     0  1  2 »\n",
              "«           \n",
              "«q_0: ──────\n",
              "«           \n",
              "«q_1: ──────\n",
              "«           \n",
              "«q_2: ──────\n",
              "«     ┌─┐   \n",
              "«q_3: ┤M├───\n",
              "«     └╥┘┌─┐\n",
              "«q_4: ─╫─┤M├\n",
              "«      ║ └╥┘\n",
              "«c: 5/═╩══╩═\n",
              "«      3  4 </pre>"
            ]
          },
          "metadata": {},
          "execution_count": 5
        }
      ]
    },
    {
      "cell_type": "code",
      "source": [
        "def invert_counts(counts):\n",
        "    return {k[::-1]:v for k, v in counts.items()}"
      ],
      "metadata": {
        "id": "CmlmQerfHPYg"
      },
      "execution_count": 6,
      "outputs": []
    },
    {
      "cell_type": "code",
      "source": [
        "backend = BasicProvider().get_backend('basic_simulator')\n",
        "new_circuit = transpile(qc, backend)\n",
        "job = backend.run(new_circuit)\n",
        "#job = execute(qc, backend)\n",
        "result = job.result()\n",
        "print(invert_counts(result.get_counts()))"
      ],
      "metadata": {
        "colab": {
          "base_uri": "https://localhost:8080/"
        },
        "id": "N9vq50vMHS9r",
        "outputId": "65aef6a5-24b1-4f36-d6c5-b78e88f612c9"
      },
      "execution_count": 7,
      "outputs": [
        {
          "output_type": "stream",
          "name": "stdout",
          "text": [
            "{'00111': 26, '01100': 36, '10010': 29, '10100': 30, '00001': 28, '01001': 34, '00011': 34, '11001': 30, '00101': 32, '00110': 37, '10110': 25, '11100': 37, '11011': 39, '11000': 28, '10101': 30, '11110': 20, '11010': 37, '01011': 31, '00010': 28, '10111': 36, '10001': 34, '11101': 35, '11111': 37, '10011': 29, '01110': 45, '01101': 33, '00100': 34, '01010': 24, '01000': 32, '00000': 29, '01111': 35, '10000': 30}\n"
          ]
        }
      ]
    },
    {
      "cell_type": "code",
      "source": [
        "def maxcut_obj(x,G):\n",
        "    cut = 0\n",
        "    for i, j in G.edges():\n",
        "        if x[i] != x[j]:\n",
        "            # the edge is cut\n",
        "            cut -= 1\n",
        "    return cut\n",
        "\n",
        "maxcut_obj('00011', G)\n",
        "\n",
        "print(maxcut_obj('00011',G))"
      ],
      "metadata": {
        "colab": {
          "base_uri": "https://localhost:8080/"
        },
        "id": "GTjHS3m1HVhb",
        "outputId": "1fb63f19-dc95-46d6-fafd-22ee69bc59b0"
      },
      "execution_count": 8,
      "outputs": [
        {
          "output_type": "stream",
          "name": "stdout",
          "text": [
            "-6\n"
          ]
        }
      ]
    },
    {
      "cell_type": "code",
      "source": [
        "def compute_maxcut_energy(counts, G):\n",
        "    energy = 0\n",
        "    total_counts = 0\n",
        "    for meas, meas_count in counts.items():\n",
        "        obj_for_meas = maxcut_obj(meas, G)\n",
        "        energy += obj_for_meas * meas_count\n",
        "        total_counts += meas_count\n",
        "    return energy / total_counts\n",
        "\n",
        "compute_maxcut_energy(invert_counts(result.get_counts()), G)"
      ],
      "metadata": {
        "colab": {
          "base_uri": "https://localhost:8080/"
        },
        "id": "jcqnwan6HYLF",
        "outputId": "227cad85-fb90-49ba-82ed-40d623f6cc60"
      },
      "execution_count": 9,
      "outputs": [
        {
          "output_type": "execute_result",
          "data": {
            "text/plain": [
              "-2.9892578125"
            ]
          },
          "metadata": {},
          "execution_count": 9
        }
      ]
    },
    {
      "cell_type": "code",
      "source": [
        "from qiskit.quantum_info import SparsePauliOp\n",
        "import qiskit.qasm3\n",
        "def get_black_box_objective(G,p):\n",
        "    backend = BasicProvider().get_backend('basic_simulator')\n",
        "    def f(theta):\n",
        "        # let's assume first half is betas, second half is gammas\n",
        "        beta = theta[:p]\n",
        "        gamma = theta[p:]\n",
        "        qc = get_qaoa_circuit(G,beta, gamma)\n",
        "        counts = backend.run(qc, seed_simulator=10).result().get_counts()\n",
        "        # return the energy\n",
        "        return compute_maxcut_energy(invert_counts(counts), G)\n",
        "    return f\n",
        "\n",
        "# p is the number of QAOA alternating operators\n",
        "p = 5\n",
        "obj = get_black_box_objective(G, p)\n",
        "\n",
        "init_point = np.array([0.81069872, 2.2067517 , 0.83830696, 2.15579759, 0.37060699,\n",
        "       2.42068091, 6.1575306 , 2.2453419 , 3.85060091, 6.137845  ])\n",
        "# We are going to limit the number of iterations to 2500\n",
        "res_sample = minimize(obj, init_point, method='COBYLA', options={'maxiter':2500, 'disp': True})\n",
        "res_sample"
      ],
      "metadata": {
        "colab": {
          "base_uri": "https://localhost:8080/"
        },
        "id": "nVNAoVI_HbiL",
        "outputId": "c058112d-b279-4cc3-b5b1-758f9a0b9863"
      },
      "execution_count": 10,
      "outputs": [
        {
          "output_type": "execute_result",
          "data": {
            "text/plain": [
              " message: Optimization terminated successfully.\n",
              " success: True\n",
              "  status: 1\n",
              "     fun: -5.76171875\n",
              "       x: [ 1.938e+00  2.212e+00  2.027e+00  2.064e+00  3.811e-01\n",
              "            2.223e+00  6.162e+00  2.296e+00  3.582e+00  5.965e+00]\n",
              "    nfev: 168\n",
              "   maxcv: 0.0"
            ]
          },
          "metadata": {},
          "execution_count": 10
        }
      ]
    },
    {
      "cell_type": "code",
      "source": [
        "from qiskit import transpile\n",
        "from qiskit.primitives import BackendSampler\n",
        "optimal_theta = res_sample['x']\n",
        "qc = get_qaoa_circuit(G, optimal_theta[:p], optimal_theta[p:])\n",
        "#counts = invert_counts(execute(qc, backend).result().get_counts()) <------ This command is deprecated because 'execute' is no longer used in Ver 1.0\n",
        "new_circuit = transpile(qc, backend)\n",
        "counts = invert_counts(backend.run(new_circuit).result().get_counts())\n",
        "\n",
        "counts"
      ],
      "metadata": {
        "colab": {
          "base_uri": "https://localhost:8080/"
        },
        "id": "dgNJkiiVHfAP",
        "outputId": "46a4f41f-25f4-49bb-ce75-4cdff3742756"
      },
      "execution_count": 11,
      "outputs": [
        {
          "output_type": "execute_result",
          "data": {
            "text/plain": [
              "{'11100': 467,\n",
              " '00011': 476,\n",
              " '11000': 9,\n",
              " '01100': 8,\n",
              " '00100': 2,\n",
              " '01111': 2,\n",
              " '01011': 3,\n",
              " '10011': 7,\n",
              " '00001': 2,\n",
              " '10001': 2,\n",
              " '10100': 11,\n",
              " '01101': 1,\n",
              " '01000': 4,\n",
              " '01010': 1,\n",
              " '10101': 1,\n",
              " '11111': 4,\n",
              " '00111': 7,\n",
              " '11011': 4,\n",
              " '10000': 1,\n",
              " '10010': 1,\n",
              " '11001': 2,\n",
              " '01001': 1,\n",
              " '11101': 2,\n",
              " '10111': 1,\n",
              " '10110': 1,\n",
              " '00110': 2,\n",
              " '00010': 1,\n",
              " '00101': 1}"
            ]
          },
          "metadata": {},
          "execution_count": 11
        }
      ]
    },
    {
      "cell_type": "code",
      "source": [
        "energies = defaultdict(int)\n",
        "for k, v in counts.items():\n",
        "    energies[maxcut_obj(k,G)] += v\n",
        "\n",
        "x,y = zip(*energies.items())\n",
        "plt.bar(x,y)"
      ],
      "metadata": {
        "colab": {
          "base_uri": "https://localhost:8080/",
          "height": 447
        },
        "id": "8tN_hUZJHiP-",
        "outputId": "0dff8025-5cac-401c-be14-2679b3cc70b3"
      },
      "execution_count": 12,
      "outputs": [
        {
          "output_type": "execute_result",
          "data": {
            "text/plain": [
              "<BarContainer object of 5 artists>"
            ]
          },
          "metadata": {},
          "execution_count": 12
        },
        {
          "output_type": "display_data",
          "data": {
            "text/plain": [
              "<Figure size 640x480 with 1 Axes>"
            ],
            "image/png": "[encoded data removed]"
          },
          "metadata": {}
        }
      ]
    },
    {
      "cell_type": "code",
      "source": [
        "# get the best solution:\n",
        "best_cut, best_solution = min([(maxcut_obj(x,G),x) for x in counts.keys()], key=itemgetter(0))\n",
        "print(f\"Best string: {best_solution} with cut: {-best_cut}\")\n",
        "\n",
        "# color the graph nodes by part\n",
        "colors = ['r' if best_solution[node] == '0' else 'b' for node in G]\n",
        "nx.draw(G,node_color = colors, pos=nx.bipartite_layout(G, [0,1,2]))"
      ],
      "metadata": {
        "colab": {
          "base_uri": "https://localhost:8080/",
          "height": 533
        },
        "id": "FlalWhzVHnUe",
        "outputId": "5739c667-4074-44cd-ec02-4989cd546b39"
      },
      "execution_count": 13,
      "outputs": [
        {
          "output_type": "stream",
          "name": "stdout",
          "text": [
            "Best string: 11100 with cut: 6\n"
          ]
        },
        {
          "output_type": "display_data",
          "data": {
            "text/plain": [
              "<Figure size 640x480 with 1 Axes>"
            ],
            "image/png": "[encoded data removed]"
          },
          "metadata": {}
        }
      ]
    },
    {
      "cell_type": "code",
      "source": [],
      "metadata": {
        "id": "qxwUgG6dHqfK"
      },
      "execution_count": null,
      "outputs": []
    }
  ]
}