{
  "nbformat": 4,
  "nbformat_minor": 0,
  "metadata": {
    "colab": {
      "provenance": [],
      "authorship_tag": "ABX9TyPtEWlrxRWhYURvC5XRzfJf",
      "include_colab_link": true
    },
    "kernelspec": {
      "name": "python3",
      "display_name": "Python 3"
    },
    "language_info": {
      "name": "python"
    }
  },
  "cells": [
    {
      "cell_type": "markdown",
      "metadata": {
        "id": "view-in-github",
        "colab_type": "text"
      },
      "source": [
        "<a href=\"https://colab.research.google.com/github/Alan-Cheong/IEEE_QW_2020/blob/master/Bose-Einstein%20Condensate%20Animation.ipynb\" target=\"_parent\"><img src=\"https://colab.research.google.com/assets/colab-badge.svg\" alt=\"Open In Colab\"/></a>"
      ]
    },
    {
      "cell_type": "code",
      "execution_count": 1,
      "metadata": {
        "colab": {
          "base_uri": "https://localhost:8080/",
          "height": 34
        },
        "id": "k7JJEDokeUWT",
        "outputId": "a475c44a-798e-4f3a-acd8-b9eb8fe43120"
      },
      "outputs": [
        {
          "output_type": "display_data",
          "data": {
            "text/plain": [
              "<Figure size 1000x1000 with 0 Axes>"
            ]
          },
          "metadata": {}
        }
      ],
      "source": [
        "import matplotlib.pyplot as plt\n",
        "import numpy as np\n",
        "from matplotlib.animation import FuncAnimation\n",
        "\n",
        "# Constants\n",
        "N = 1000  # Number of particles\n",
        "T_initial = 1.0  # Initial temperature in arbitrary units\n",
        "T_final = 0.001  # Final temperature close to absolute zero\n",
        "steps = 1000  # Number of simulation steps\n",
        "\n",
        "# Particle positions (random at start)\n",
        "particles = np.random.rand(N, 2)  # 2D positions\n",
        "\n",
        "# Function to update particle positions based on cooling\n",
        "def update(frame):\n",
        "    # Cooling function: temperature decreases exponentially\n",
        "    current_temp = T_initial * np.exp(-frame / (steps / 8))  # Exponential cooling\n",
        "\n",
        "    # Update positions: particles move less as temperature decreases\n",
        "    particles[:, 0] += np.random.normal(0, current_temp, N)\n",
        "    particles[:, 1] += np.random.normal(0, current_temp, N)\n",
        "\n",
        "    # Boundary conditions: wrap around if outside [0, 1]\n",
        "    particles[:, 0] = np.mod(particles[:, 0], 1)\n",
        "    particles[:, 1] = np.mod(particles[:, 1], 1)\n",
        "\n",
        "    # Plotting\n",
        "    plt.cla()\n",
        "    plt.scatter(particles[:, 0], particles[:, 1], s=1, alpha=0.5)\n",
        "    plt.title(f'Bose-Einstein Condensate Cooling: T = {current_temp:.3f}')\n",
        "    plt.xlim(0, 1)\n",
        "    plt.ylim(0, 1)\n",
        "    plt.gca().set_aspect('equal', adjustable='box')\n",
        "\n",
        "# Set up the plot\n",
        "fig = plt.figure(figsize=(10, 10))\n",
        "\n",
        "# Animation\n",
        "anim = FuncAnimation(fig, update, frames=np.arange(0, steps), interval=20, blit=False)\n",
        "plt.show()"
      ]
    },
    {
      "cell_type": "code",
      "source": [],
      "metadata": {
        "id": "RHwSQzdheWBN"
      },
      "execution_count": null,
      "outputs": []
    }
  ]
}