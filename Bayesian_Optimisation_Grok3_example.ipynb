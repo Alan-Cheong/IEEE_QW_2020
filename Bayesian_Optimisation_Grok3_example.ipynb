{
  "nbformat": 4,
  "nbformat_minor": 0,
  "metadata": {
    "colab": {
      "provenance": [],
      "authorship_tag": "ABX9TyPb7AucaasTjIyZSXIgiSeI",
      "include_colab_link": true
    },
    "kernelspec": {
      "name": "python3",
      "display_name": "Python 3"
    },
    "language_info": {
      "name": "python"
    }
  },
  "cells": [
    {
      "cell_type": "markdown",
      "metadata": {
        "id": "view-in-github",
        "colab_type": "text"
      },
      "source": [
        "<a href=\"https://colab.research.google.com/github/Alan-Cheong/IEEE_QW_2020/blob/master/Bayesian_Optimisation_Grok3_example.ipynb\" target=\"_parent\"><img src=\"https://colab.research.google.com/assets/colab-badge.svg\" alt=\"Open In Colab\"/></a>"
      ]
    },
    {
      "cell_type": "code",
      "execution_count": 1,
      "metadata": {
        "colab": {
          "base_uri": "https://localhost:8080/"
        },
        "id": "pC5pJkcqypj0",
        "outputId": "ff709d66-ef45-44e6-acc0-906df39205d2"
      },
      "outputs": [
        {
          "output_type": "stream",
          "name": "stdout",
          "text": [
            "Predictive mean at x=0.6: 9.602\n",
            "Predictive standard deviation at x=0.6: 0.209\n"
          ]
        }
      ],
      "source": [
        "import numpy as np\n",
        "\n",
        "def squared_exponential_kernel(x, x_prime, length_scale=0.3, sigma_f=1.0):\n",
        "    \"\"\"\n",
        "    Squared exponential kernel: k(x, x') = sigma_f^2 * exp(-||x - x'||^2 / (2 * length_scale^2))\n",
        "    \"\"\"\n",
        "    sq_dist = np.sum((x - x_prime) ** 2)\n",
        "    return sigma_f ** 2 * np.exp(-sq_dist / (2 * length_scale ** 2))\n",
        "\n",
        "def compute_k_x_X(x, X, length_scale=0.3, sigma_f=1.0):\n",
        "    \"\"\"\n",
        "    Compute k(x, X): covariance vector between new point x and observed points X.\n",
        "    \"\"\"\n",
        "    return np.array([squared_exponential_kernel(x, x_i, length_scale, sigma_f) for x_i in X])\n",
        "\n",
        "def compute_K(X, length_scale=0.3, sigma_f=1.0, noise_variance=0.0):\n",
        "    \"\"\"\n",
        "    Compute K: covariance matrix for observed points X.\n",
        "    \"\"\"\n",
        "    n = len(X)\n",
        "    K = np.zeros((n, n))\n",
        "    for i in range(n):\n",
        "        for j in range(n):\n",
        "            K[i, j] = squared_exponential_kernel(X[i], X[j], length_scale, sigma_f)\n",
        "    if noise_variance > 0:\n",
        "        K += noise_variance * np.eye(n)\n",
        "    return K\n",
        "\n",
        "def gp_predict(x, X, y, length_scale=0.3, sigma_f=1.0, noise_variance=0.0):\n",
        "    \"\"\"\n",
        "    Compute GP predictive mean and standard deviation at point x.\n",
        "    Inputs:\n",
        "        x: New point (scalar or 1D array).\n",
        "        X: Observed points (array of scalars or 1D arrays).\n",
        "        y: Observed values (array).\n",
        "        length_scale: Kernel length scale.\n",
        "        sigma_f: Signal variance.\n",
        "        noise_variance: Observation noise variance.\n",
        "    Returns:\n",
        "        mu: Predictive mean.\n",
        "        sigma: Predictive standard deviation.\n",
        "    \"\"\"\n",
        "    # Compute k(x, X)\n",
        "    k_x_X = compute_k_x_X(x, X, length_scale, sigma_f)\n",
        "\n",
        "    # Compute K\n",
        "    K = compute_K(X, length_scale, sigma_f, noise_variance)\n",
        "\n",
        "    # Compute K inverse\n",
        "    K_inv = np.linalg.inv(K)\n",
        "\n",
        "    # Predictive mean: mu(x) = k(x, X)^T * K^-1 * y\n",
        "    mu = k_x_X.T @ K_inv @ y\n",
        "\n",
        "    # Predictive variance: sigma^2(x) = k(x, x) - k(x, X)^T * K^-1 * k(x, X)\n",
        "    k_x_x = squared_exponential_kernel(x, x, length_scale, sigma_f)\n",
        "    var = k_x_x - k_x_X.T @ K_inv @ k_x_X\n",
        "\n",
        "    # Ensure variance is non-negative (numerical errors)\n",
        "    var = max(var, 0)\n",
        "    sigma = np.sqrt(var)\n",
        "\n",
        "    return mu, sigma\n",
        "\n",
        "# Example usage\n",
        "if __name__ == \"__main__\":\n",
        "    # Observed data\n",
        "    X = np.array([0.1, 0.5, 0.9])\n",
        "    y = np.array([8.0, 10.0, 7.0])\n",
        "    x_new = 0.6\n",
        "    length_scale = 0.3\n",
        "    sigma_f = 1.0\n",
        "    noise_variance = 0.01  # Small noise for numerical stability\n",
        "\n",
        "    # Compute prediction\n",
        "    mu, sigma = gp_predict(x_new, X, y, length_scale, sigma_f, noise_variance)\n",
        "    print(f\"Predictive mean at x={x_new}: {mu:.3f}\")\n",
        "    print(f\"Predictive standard deviation at x={x_new}: {sigma:.3f}\")"
      ]
    },
    {
      "cell_type": "code",
      "source": [],
      "metadata": {
        "id": "y8qldHPGyzFN"
      },
      "execution_count": null,
      "outputs": []
    }
  ]
}