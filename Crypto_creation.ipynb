{
  "nbformat": 4,
  "nbformat_minor": 0,
  "metadata": {
    "colab": {
      "provenance": [],
      "authorship_tag": "ABX9TyOTe0sPxVJ6CaGnefV1UZLy",
      "include_colab_link": true
    },
    "kernelspec": {
      "name": "python3",
      "display_name": "Python 3"
    },
    "language_info": {
      "name": "python"
    }
  },
  "cells": [
    {
      "cell_type": "markdown",
      "metadata": {
        "id": "view-in-github",
        "colab_type": "text"
      },
      "source": [
        "<a href=\"https://colab.research.google.com/github/Alan-Cheong/IEEE_QW_2020/blob/master/Crypto_creation.ipynb\" target=\"_parent\"><img src=\"https://colab.research.google.com/assets/colab-badge.svg\" alt=\"Open In Colab\"/></a>"
      ]
    },
    {
      "cell_type": "code",
      "execution_count": 1,
      "metadata": {
        "colab": {
          "base_uri": "https://localhost:8080/"
        },
        "id": "TSEafcSkArYS",
        "outputId": "0d53a7b6-9409-4472-b583-d03a5530ac3d"
      },
      "outputs": [
        {
          "output_type": "stream",
          "name": "stdout",
          "text": [
            "Block 1 mined! Reward: 50 coins\n",
            "Block 2 mined! Reward: 50 coins\n",
            "Block 3 mined! Reward: 50 coins\n",
            "Block 4 mined! Reward: 50 coins\n",
            "Block 5 mined! Reward: 50 coins\n",
            "Block 6 mined! Reward: 50 coins\n",
            "Block 7 mined! Reward: 50 coins\n",
            "Block 8 mined! Reward: 50 coins\n",
            "Block 9 mined! Reward: 50 coins\n",
            "Block 10 mined! Reward: 50 coins\n",
            "\n",
            "Final Cryptocurrency Status:\n",
            "{'Current Supply': 500, 'Reward per Block': 50, 'Blocks Mined': 10, 'Remaining Supply': 20999500}\n"
          ]
        }
      ],
      "source": [
        "class Cryptocurrency:\n",
        "    def __init__(self, max_supply, initial_reward, halving_interval):\n",
        "        \"\"\"\n",
        "        Initialize the cryptocurrency parameters.\n",
        "        :param max_supply: The maximum number of coins allowed.\n",
        "        :param initial_reward: The initial reward per block mined.\n",
        "        :param halving_interval: The number of blocks after which the reward is halved.\n",
        "        \"\"\"\n",
        "        self.max_supply = max_supply\n",
        "        self.current_supply = 0\n",
        "        self.reward = initial_reward\n",
        "        self.halving_interval = halving_interval\n",
        "        self.blocks_mined = 0\n",
        "\n",
        "    def mine_block(self):\n",
        "        \"\"\"\n",
        "        Simulate mining a block and adjusting the reward if necessary.\n",
        "        :return: The reward for mining the block, or 0 if max supply is reached.\n",
        "        \"\"\"\n",
        "        if self.current_supply >= self.max_supply:\n",
        "            print(\"Max supply reached. No more coins can be mined.\")\n",
        "            return 0\n",
        "\n",
        "        # Add the current reward to the total supply\n",
        "        coins_mined = min(self.reward, self.max_supply - self.current_supply)\n",
        "        self.current_supply += coins_mined\n",
        "        self.blocks_mined += 1\n",
        "\n",
        "        # Adjust reward if halving interval is reached\n",
        "        if self.blocks_mined % self.halving_interval == 0:\n",
        "            self.reward /= 2\n",
        "\n",
        "        return coins_mined\n",
        "\n",
        "    def get_status(self):\n",
        "        \"\"\"\n",
        "        Get the current status of the cryptocurrency.\n",
        "        :return: A dictionary containing current stats.\n",
        "        \"\"\"\n",
        "        return {\n",
        "            \"Current Supply\": self.current_supply,\n",
        "            \"Reward per Block\": self.reward,\n",
        "            \"Blocks Mined\": self.blocks_mined,\n",
        "            \"Remaining Supply\": self.max_supply - self.current_supply,\n",
        "        }\n",
        "\n",
        "\n",
        "# Example usage\n",
        "if __name__ == \"__main__\":\n",
        "    # Define cryptocurrency parameters\n",
        "    MAX_SUPPLY = 21_000_000  # Maximum coin supply\n",
        "    INITIAL_REWARD = 50      # Initial block reward\n",
        "    HALVING_INTERVAL = 210_000  # Blocks per halving (Bitcoin uses this value)\n",
        "\n",
        "    # Create cryptocurrency\n",
        "    crypto = Cryptocurrency(MAX_SUPPLY, INITIAL_REWARD, HALVING_INTERVAL)\n",
        "\n",
        "    # Simulate mining\n",
        "    for _ in range(10):  # Simulate 10 blocks being mined\n",
        "        reward = crypto.mine_block()\n",
        "        print(f\"Block {_ + 1} mined! Reward: {reward} coins\")\n",
        "\n",
        "    # Display final status\n",
        "    print(\"\\nFinal Cryptocurrency Status:\")\n",
        "    print(crypto.get_status())\n"
      ]
    },
    {
      "cell_type": "code",
      "source": [],
      "metadata": {
        "id": "Yj2pqJ8gAvEV"
      },
      "execution_count": null,
      "outputs": []
    }
  ]
}