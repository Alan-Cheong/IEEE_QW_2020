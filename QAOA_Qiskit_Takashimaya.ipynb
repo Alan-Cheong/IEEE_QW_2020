{
  "nbformat": 4,
  "nbformat_minor": 0,
  "metadata": {
    "colab": {
      "provenance": [],
      "authorship_tag": "ABX9TyNWyQEvOxcfYI9QbDJG8Eve",
      "include_colab_link": true
    },
    "kernelspec": {
      "name": "python3",
      "display_name": "Python 3"
    },
    "language_info": {
      "name": "python"
    }
  },
  "cells": [
    {
      "cell_type": "markdown",
      "metadata": {
        "id": "view-in-github",
        "colab_type": "text"
      },
      "source": [
        "<a href=\"https://colab.research.google.com/github/Alan-Cheong/IEEE_QW_2020/blob/master/QAOA_Qiskit_Takashimaya.ipynb\" target=\"_parent\"><img src=\"https://colab.research.google.com/assets/colab-badge.svg\" alt=\"Open In Colab\"/></a>"
      ]
    },
    {
      "cell_type": "code",
      "execution_count": null,
      "metadata": {
        "id": "ABdDxJGD_3W3"
      },
      "outputs": [],
      "source": [
        "#Using QAOA for Takashimaya maxcut layout\n",
        "!pip install qiskit\n",
        "!pip install qiskit_aer\n",
        "!pip install qiskit-ibm-provider\n",
        "!pip install qiskit_algorithms\n",
        "\n",
        "from qiskit import Aer\n",
        "from qiskit.algorithms import QAOA\n",
        "from qiskit.algorithms.optimizers import COBYLA\n",
        "from qiskit.circuit.library import TwoLocal\n",
        "from qiskit_optimization import QuadraticProgram\n",
        "from qiskit_optimization.algorithms import MinimumEigenOptimizer\n",
        "\n",
        "# Define a simplified version of the mall layout\n",
        "# Let's assume we have 5 stores (A, B, C, D, E) we want to place in a 2x3 grid\n",
        "# 0 represents an empty space, 1 represents a store\n",
        "# We aim to place stores in a way that maximizes adjacency (flow)\n",
        "\n",
        "# Example objective: Maximize the number of adjacent stores\n",
        "# This is a very basic model, in reality, pedestrian flow would be much more complex\n",
        "\n",
        "def create_mall_layout_problem():\n",
        "    # Create a Quadratic Program\n",
        "    qp = QuadraticProgram()\n",
        "\n",
        "    # Define binary variables for each cell in the grid (2x3)\n",
        "    for i in range(2):\n",
        "        for j in range(3):\n",
        "            qp.binary_var(f'x_{i}_{j}')\n",
        "\n",
        "    # Objective function: Encourage adjacency\n",
        "    # For simplicity, we'll just count adjacent pairs\n",
        "    # (x00, x01), (x01, x02), (x10, x11), (x11, x12), (x00, x10), (x01, x11), (x02, x12)\n",
        "    adjacency_pairs = [('x_0_0', 'x_0_1'), ('x_0_1', 'x_0_2'), ('x_1_0', 'x_1_1'), ('x_1_1', 'x_1_2'),\n",
        "                       ('x_0_0', 'x_1_0'), ('x_0_1', 'x_1_1'), ('x_0_2', 'x_1_2')]\n",
        "\n",
        "    for pair in adjacency_pairs:\n",
        "        qp.maximize(linear={pair[0]: 1, pair[1]: 1}, quadratic={(pair[0], pair[1]): 1})\n",
        "\n",
        "    # Constraints: Place exactly 5 stores\n",
        "    qp.linear_constraint(linear={f'x_{i}_{j}': 1 for i in range(2) for j in range(3)}, sense='==', rhs=5, name='total_stores')\n",
        "\n",
        "    return qp\n",
        "\n",
        "# Solve the problem using QAOA\n",
        "def solve_with_qaoa(qp):\n",
        "    # Convert to QUBO\n",
        "    qubitOp, offset = qp.to_ising()\n",
        "\n",
        "    # Define the backend\n",
        "    backend = Aer.get_backend('qasm_simulator')\n",
        "\n",
        "    # Define the optimizer\n",
        "    optimizer = COBYLA()\n",
        "\n",
        "    # Define the QAOA instance\n",
        "    qaoa = QAOA(optimizer, quantum_instance=backend, p=2, reps=2)\n",
        "\n",
        "    # Solve the problem\n",
        "    meo = MinimumEigenOptimizer(qaoa)\n",
        "    result = meo.solve(qp)\n",
        "\n",
        "    return result\n",
        "\n",
        "# Run the optimization\n",
        "mall_layout_problem = create_mall_layout_problem()\n",
        "result = solve_with_qaoa(mall_layout_problem)\n",
        "\n",
        "# Print the result\n",
        "print(\"Optimal store placement:\", result.optimal_solution)\n",
        "print(\"Optimal value:\", result.optimal_value)\n",
        "\n",
        "# Note: The output will be in binary form, where '1' indicates a store and '0' an empty space.\n",
        "# You would need to map this back to your mall layout for visualization or further analysis."
      ]
    },
    {
      "cell_type": "code",
      "source": [],
      "metadata": {
        "id": "DKFeVH6t_8wC"
      },
      "execution_count": null,
      "outputs": []
    }
  ]
}